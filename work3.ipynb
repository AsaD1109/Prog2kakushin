{
  "nbformat": 4,
  "nbformat_minor": 0,
  "metadata": {
    "colab": {
      "provenance": [],
      "authorship_tag": "ABX9TyOcPpyOYXznkslEevr8FQGF",
      "include_colab_link": true
    },
    "kernelspec": {
      "name": "python3",
      "display_name": "Python 3"
    },
    "language_info": {
      "name": "python"
    }
  },
  "cells": [
    {
      "cell_type": "markdown",
      "metadata": {
        "id": "view-in-github",
        "colab_type": "text"
      },
      "source": [
        "<a href=\"https://colab.research.google.com/github/AsaD1109/Prog2kakushin/blob/main/work3.ipynb\" target=\"_parent\"><img src=\"https://colab.research.google.com/assets/colab-badge.svg\" alt=\"Open In Colab\"/></a>"
      ]
    },
    {
      "cell_type": "markdown",
      "source": [
        "野球の内野をturtleで描きました."
      ],
      "metadata": {
        "id": "i0VLDtw059rv"
      }
    },
    {
      "cell_type": "code",
      "execution_count": 30,
      "metadata": {
        "id": "vaoi6cLk0EHq",
        "colab": {
          "base_uri": "https://localhost:8080/",
          "height": 556
        },
        "outputId": "60f971bd-fde9-421b-a674-4025336c5590"
      },
      "outputs": [
        {
          "output_type": "stream",
          "name": "stdout",
          "text": [
            "Looking in indexes: https://pypi.org/simple, https://us-python.pkg.dev/colab-wheels/public/simple/\n",
            "Requirement already satisfied: ColabTurtlePlus in /usr/local/lib/python3.8/dist-packages (2.0.1)\n"
          ]
        },
        {
          "output_type": "display_data",
          "data": {
            "text/plain": [
              "<IPython.core.display.HTML object>"
            ],
            "text/html": [
              "\n",
              "      <svg width=\"500\" height=\"500\">  \n",
              "        <rect width=\"100%\" height=\"100%\" style=\"fill:white;stroke:;stroke-width:1\"/>\n",
              "        \n",
              "        \n",
              "        <path fill-rule=\"evenodd\" fill-opacity=\"1\" d=\"M 250.0 450.0  L 271.6 450.0  L 271.6 471.6  L 250.033 493.167  L 228.466 471.6  L 228.466 450.0  L 271.666 450.0 \" stroke-linecap=\"round\" style=\"stroke:black;stroke-width:1\" fill=\"papayawhip\" /><line x1=\"271.6\" y1=\"450.0\" x2=\"462.132\" y2=\"259.468\" stroke-linecap=\"round\" style=\"stroke:black;stroke-width:1\" /><path fill-rule=\"evenodd\" fill-opacity=\"1\" d=\"M 462.132 259.468  L 435.191 232.527  L 408.25 259.468  L 435.191 286.409  L 462.132 259.468 \" stroke-linecap=\"round\" style=\"stroke:black;stroke-width:1\" fill=\"papayawhip\" /><line x1=\"462.132\" y1=\"259.468\" x2=\"250.0\" y2=\"47.336\" stroke-linecap=\"round\" style=\"stroke:black;stroke-width:1\" /><path fill-rule=\"evenodd\" fill-opacity=\"1\" d=\"M 250.0 47.336  L 223.059 74.277  L 250.0 101.218  L 276.941 74.277  L 250.0 47.336 \" stroke-linecap=\"round\" style=\"stroke:black;stroke-width:1\" fill=\"papayawhip\" /><line x1=\"250.0\" y1=\"47.336\" x2=\"37.868\" y2=\"259.468\" stroke-linecap=\"round\" style=\"stroke:black;stroke-width:1\" /><path fill-rule=\"evenodd\" fill-opacity=\"1\" d=\"M 37.868 259.468  L 64.809 286.409  L 91.75 259.468  L 64.809 232.527  L 37.868 259.468 \" stroke-linecap=\"round\" style=\"stroke:black;stroke-width:1\" fill=\"papayawhip\" /><line x1=\"37.868\" y1=\"259.468\" x2=\"228.4\" y2=\"450.0\" stroke-linecap=\"round\" style=\"stroke:black;stroke-width:1\" /><path fill-rule=\"evenodd\" fill-opacity=\"1\" d=\"M 250.0 269.56  L 270.0 269.56  L 270.0 259.56  L 230.0 259.56  L 230.0 269.56  L 250.0 269.56 \" stroke-linecap=\"round\" style=\"stroke:black;stroke-width:1\" fill=\"ivory\" />\n",
              "        \n",
              "        \n",
              "        <g id=\"turtle\" visibility=\"visible\" transform=\"rotate(90,480.0,480.0) translate(480.0, 480.0)\">\n",
              "<path style=\"stroke:black;fill-rule:evenodd;fill:black;fill-opacity:1;\" transform=\"skewX(0) scale(1,1)\" d=\"m 1.1536693,-18.56101 c -2.105469,1.167969 -3.203125,3.441407 -3.140625,6.5 l 0.011719,0.519532 -0.300782,-0.15625 c -1.308594,-0.671875 -2.828125,-0.824219 -4.378906,-0.429688 -1.9375,0.484375 -3.8906253,2.089844 -6.0117193,4.9257825 -1.332031,1.785156 -1.714843,2.644531 -1.351562,3.035156 l 0.113281,0.125 h 0.363281 c 0.71875,0 1.308594,-0.265625 4.6679693,-2.113282 1.199219,-0.660156 2.183594,-1.199218 2.191406,-1.199218 0.00781,0 -0.023437,0.089844 -0.074218,0.195312 -0.472657,1.058594 -1.046876,2.785156 -1.335938,4.042969 -1.054688,4.574219 -0.351562,8.453125 2.101562,11.582031 0.28125,0.355469 0.292969,0.253906 -0.097656,0.722656 -2.046875,2.4609375 -3.027344,4.8984375 -2.734375,6.8046875 0.050781,0.339844 0.042969,0.335938 0.679688,0.335938 2.023437,0 4.15625,-1.316407 6.21875,-3.835938 0.222656,-0.269531 0.191406,-0.261719 0.425781,-0.113281 0.730469,0.46875 2.460938,1.390625 2.613281,1.390625 0.160157,0 1.765625,-0.753906 2.652344,-1.246094 0.167969,-0.09375 0.308594,-0.164062 0.308594,-0.160156 0.066406,0.105468 0.761719,0.855468 1.085937,1.171875 1.613282,1.570312 3.339844,2.402343 5.3593747,2.570312 0.324219,0.02734 0.355469,0.0078 0.425781,-0.316406 0.375,-1.742187 -0.382812,-4.058594 -2.1445307,-6.5585935 l -0.320312,-0.457031 0.15625,-0.183594 c 3.2460927,-3.824218 3.4335927,-9.08593704 0.558593,-15.816406 l -0.050781,-0.125 1.7382807,0.859375 c 3.585938,1.773437 4.371094,2.097656 5.085938,2.097656 0.945312,0 0.75,-0.863281 -0.558594,-2.507812 C 11.458356,-11.838353 8.3333563,-13.268041 4.8607003,-11.721166 l -0.363281,0.164063 0.019531,-0.09375 c 0.121094,-0.550781 0.183594,-1.800781 0.121094,-2.378907 -0.203125,-1.867187 -1.035157,-3.199218 -2.695313,-4.308593 -0.523437,-0.351563 -0.546875,-0.355469 -0.789062,-0.222657\" />\n",
              "</g>\n",
              "      </svg>\n",
              "    "
            ]
          },
          "metadata": {}
        }
      ],
      "source": [
        "#turtleで野球のベースを含めた内野を描いていこうと考えている\n",
        "import math as m\n",
        "\n",
        "!pip3 install ColabTurtlePlus\n",
        "\n",
        "from ColabTurtlePlus.Turtle import *\n",
        "\n",
        "clearscreen() \n",
        "setup(500,500)\n",
        "\n",
        "turtle1 = Turtle()\n",
        "turtle1.shape(\"turtle\")\n",
        "turtle1.speed(4)\n",
        "\n",
        "turtle1.penup()\n",
        "turtle1.goto(0,-200)\n",
        "turtle1.pendown()\n",
        "\n",
        "turtle1.fillcolor(\"papayawhip\")\n",
        "turtle1.begin_fill() \n",
        "turtle1.forward(21.6)\n",
        "turtle1.right(90)\n",
        "turtle1.forward(21.6)\n",
        "turtle1.right(45)\n",
        "turtle1.forward(30.5)\n",
        "turtle1.right(90)\n",
        "turtle1.forward(30.5)\n",
        "turtle1.right(45)\n",
        "turtle1.forward(21.6)\n",
        "turtle1.right(90)\n",
        "turtle1.forward(43.2)\n",
        "turtle1.end_fill() \n",
        "\n",
        "a = 21.6*(m.sqrt(2))\n",
        "turtle1.penup()\n",
        "turtle1.goto(21.6,-200)\n",
        "turtle1.pendown()\n",
        "\n",
        "turtle1.left(45)\n",
        "turtle1.forward(300-a)\n",
        "turtle1.left(90)\n",
        "turtle1.begin_fill()\n",
        "for n in range(4):\n",
        "  turtle1.forward(38.1)\n",
        "  turtle1.left(90)\n",
        "turtle1.end_fill()   \n",
        "for m in range(2):\n",
        "  turtle1.forward(300)\n",
        "  turtle1.left(90)\n",
        "  turtle1.begin_fill()\n",
        "  for l in range(4):\n",
        "    turtle1.forward(38.1)\n",
        "    turtle1.left(90)\n",
        "  turtle1.end_fill()  \n",
        "turtle1.forward(300-a)\n",
        "turtle1.left(45)\n",
        "\n",
        "turtle1.penup()\n",
        "turtle1.goto(0,-19.56)\n",
        "turtle1.pendown()\n",
        "turtle1.fillcolor(\"ivory\")\n",
        "\n",
        "turtle1.begin_fill()\n",
        "turtle1.forward(20)\n",
        "turtle1.left(90)\n",
        "turtle1.forward(10)\n",
        "turtle1.left(90)\n",
        "turtle1.forward(40)\n",
        "turtle1.left(90)\n",
        "turtle1.forward(10)\n",
        "turtle1.left(90)\n",
        "turtle1.forward(20)\n",
        "turtle1.end_fill() \n",
        "\n",
        "turtle1.penup()\n",
        "turtle1.goto(230,-230)\n",
        "turtle1.pendown()\n",
        "turtle1.fillcolor(\"black\")"
      ]
    }
  ]
}